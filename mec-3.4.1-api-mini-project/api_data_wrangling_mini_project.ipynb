{
 "cells": [
  {
   "cell_type": "markdown",
   "metadata": {},
   "source": [
    "This exercise will require you to pull some data from https://data.nasdaq.com/ (formerly Quandl API)."
   ]
  },
  {
   "cell_type": "markdown",
   "source": [
    "As a first step, you will need to register a free account on the https://data.nasdaq.com/ website."
   ],
   "metadata": {
    "collapsed": false
   }
  },
  {
   "cell_type": "markdown",
   "metadata": {},
   "source": [
    "After you register, you will be provided with a unique API key, that you should store:\n",
    "\n",
    "*Note*: Use a `.env` file and put your key in there and `python-dotenv` to access it in this notebook. \n",
    "\n",
    "The code below uses a key that was used when generating this project but has since been deleted. Never submit your keys to source control. There is a `.env-example` file in this repository to illusrtate what you need. Copy that to a file called `.env` and use your own api key in that `.env` file. Make sure you also have a `.gitignore` file with a line for `.env` added to it. \n",
    "\n",
    "The standard Python gitignore is [here](https://github.com/github/gitignore/blob/master/Python.gitignore) you can just copy that. "
   ]
  },
  {
   "cell_type": "code",
   "execution_count": null,
   "outputs": [],
   "source": [
    "import os\n",
    "\n",
    "from dotenv import load_dotenv\n",
    "\n",
    "load_dotenv()\n",
    "API_KEY = os.getenv('NASDAQ_API_KEY')\n",
    "\n",
    "print(API_KEY)"
   ],
   "metadata": {
    "collapsed": false,
    "pycharm": {
     "is_executing": true
    }
   }
  },
  {
   "cell_type": "markdown",
   "metadata": {},
   "source": [
    "Nasdaq Data has a large number of data sources, but, unfortunately, most of them require a Premium subscription. Still, there are also a good number of free datasets."
   ]
  },
  {
   "cell_type": "markdown",
   "metadata": {},
   "source": [
    "For this mini project, we will focus on equities data from the Frankfurt Stock Exchange (FSE), which is available for free. We'll try and analyze the stock prices of a company called Carl Zeiss Meditec, which manufactures tools for eye examinations, as well as medical lasers for laser eye surgery: https://www.zeiss.com/meditec/int/home.html. The company is listed under the stock ticker AFX_X."
   ]
  },
  {
   "cell_type": "markdown",
   "metadata": {},
   "source": [
    "You can find the detailed Nasdaq Data API instructions here: https://docs.data.nasdaq.com/docs/in-depth-usage"
   ]
  },
  {
   "cell_type": "markdown",
   "metadata": {},
   "source": [
    "While there is a dedicated Python package for connecting to the Nasdaq API, we would prefer that you use the *requests* package, which can be easily downloaded using *pip* or *conda*. You can find the documentation for the package here: http://docs.python-requests.org/en/master/"
   ]
  },
  {
   "cell_type": "markdown",
   "metadata": {},
   "source": [
    "Finally, apart from the *requests* package, you are encouraged to not use any third party Python packages, such as *pandas*, and instead focus on what's available in the Python Standard Library (the *collections* module might come in handy: https://pymotw.com/3/collections/).\n",
    "Also, since you won't have access to DataFrames, you are encouraged to us Python's native data structures - preferably dictionaries, though some questions can also be answered using lists.\n",
    "You can read more on these data structures here: https://docs.python.org/3/tutorial/datastructures.html"
   ]
  },
  {
   "cell_type": "markdown",
   "metadata": {},
   "source": [
    "Keep in mind that the JSON responses you will be getting from the API map almost one-to-one to Python's dictionaries. Unfortunately, they can be very nested, so make sure you read up on indexing dictionaries in the documentation provided above."
   ]
  },
  {
   "cell_type": "markdown",
   "metadata": {},
   "source": [
    "Note: API's can change a bit with each version, for this exercise it is reccomended to use the nasdaq api at `https://data.nasdaq.com/api/v3/`. This is the same api as what used to be quandl so `https://www.quandl.com/api/v3/` should work too.\n",
    "\n",
    "Hint: We are looking for the `AFX_X` data on the `datasets/FSE/` dataset."
   ]
  },
  {
   "cell_type": "markdown",
   "source": [],
   "metadata": {
    "collapsed": false
   }
  },
  {
   "cell_type": "code",
   "execution_count": 5,
   "metadata": {},
   "outputs": [
    {
     "name": "stdout",
     "output_type": "stream",
     "text": [
      "['2020-12-01', 112.2, 112.2, 111.5, 112.0, None, 51.0, 5703.0, None, None, None]\n"
     ]
    }
   ],
   "source": [
    "# Now, call the Nasdaq API and pull out a small sample of the data (only one day) to get a glimpse into the JSON structure that will be returned\n",
    "# Inspect the JSON structure of the object you created, and take note of how nested it is, as well as the overall structure\n",
    "\n",
    "import os\n",
    "import json\n",
    "import requests\n",
    "from dotenv import load_dotenv\n",
    "\n",
    "load_dotenv()\n",
    "API_KEY = os.getenv('NASDAQ_API_KEY')\n",
    "\n",
    "params = {'api_key': API_KEY}\n",
    "responseBody = requests.get('https://data.nasdaq.com/api/v3/datasets/FSE/AFX_X/data.json', params=params).text\n",
    "\n",
    "print(json.loads(responseBody)['dataset_data']['data'][0])"
   ]
  },
  {
   "cell_type": "markdown",
   "metadata": {},
   "source": [
    "These are your tasks for this mini project:\n",
    "\n",
    "1. Collect data from the Franfurt Stock Exchange, for the ticker AFX_X, for the whole year 2017 (keep in mind that the date format is YYYY-MM-DD).\n",
    "2. Convert the returned JSON object into a Python dictionary.\n",
    "3. Calculate what the highest and lowest opening prices were for the stock in this period.\n",
    "4. What was the largest change in any one day (based on High and Low price)?\n",
    "5. What was the largest change between any two days (based on Closing Price)?\n",
    "6. What was the average daily trading volume during this year?\n",
    "7. (Optional) What was the median trading volume during this year. (Note: you may need to implement your own function for calculating the median.)\n",
    "\n"
   ]
  },
  {
   "cell_type": "code",
   "execution_count": 8,
   "outputs": [
    {
     "name": "stdout",
     "output_type": "stream",
     "text": [
      "----- AFX_X Stock Ticker Analysis -----\n",
      "\n",
      "{\n",
      "  \"opening_price\": 111,\n",
      "  \"closing_price\": 2.0,\n",
      "  \"traded_volume\": 3.0,\n",
      "  \"price_change\": 4.0\n",
      "}\n",
      "{\n",
      "  \"opening_price\": 111,\n",
      "  \"closing_price\": 2.0,\n",
      "  \"traded_volume\": 3.0,\n",
      "  \"price_change\": 4.0\n",
      "}\n",
      "\n",
      "---------------------------------------\n"
     ]
    }
   ],
   "source": [
    "import os\n",
    "import json\n",
    "import requests\n",
    "from pydantic import BaseModel  # For runtime type-checking\n",
    "from dotenv import load_dotenv\n",
    "from typing import Union, Optional, List\n",
    "\n",
    "load_dotenv()\n",
    "API_KEY = os.getenv('NASDAQ_API_KEY')\n",
    "\n",
    "\n",
    "class DailyTickerSummary(BaseModel):\n",
    "    opening_price: Optional[float]\n",
    "    closing_price: Optional[float]\n",
    "    traded_volume: Optional[float]\n",
    "    price_change: Optional[float]\n",
    "\n",
    "    def __str__(self):\n",
    "        return json.dumps({\n",
    "            'opening_price': self.opening_price,\n",
    "            'closing_price': self.closing_price,\n",
    "            'traded_volume': self.traded_volume,\n",
    "            'price_change': self.price_change,\n",
    "        }, indent=2)\n",
    "\n",
    "\n",
    "def fetch_daily_ticker_summaries(year: Union[int, str]) -> List[DailyTickerSummary]:\n",
    "    try:\n",
    "        params = {'api_key': API_KEY, 'start_date': f'{year}-01-01', 'end_date': f'{year}-12-31'}\n",
    "        response = requests.get('https://data.nasdaq.com/api/v3/datasets/FSE/AFX_X/data.json', params)\n",
    "        daily_ticker_data: List[List[float]] = json.loads(response.text)['dataset_data']['data']\n",
    "\n",
    "        return list(map(build_daily_ticker_summary, daily_ticker_data))\n",
    "\n",
    "    except requests.exceptions.RequestException:\n",
    "        print('The HTTP request failed')\n",
    "    except KeyError:\n",
    "        print('The response body is malformed')\n",
    "\n",
    "    return []\n",
    "\n",
    "\n",
    "def build_daily_ticker_summary(price_data: List[float]) -> DailyTickerSummary:\n",
    "    opening_price = price_data[1] or -1\n",
    "    closing_price = price_data[4] or -1\n",
    "    traded_volume = price_data[6] or -1\n",
    "    low_price = price_data[3]\n",
    "    high_price = price_data[2]\n",
    "    price_change = high_price - low_price if None not in [low_price and high_price] else -1\n",
    "\n",
    "    return DailyTickerSummary(\n",
    "        opening_price=opening_price,\n",
    "        closing_price=closing_price,\n",
    "        traded_volume=traded_volume,\n",
    "        price_change=price_change\n",
    "    )\n",
    "\n",
    "\n",
    "def extract_valid_opening_prices(summaries: List[DailyTickerSummary]) -> List[float]:\n",
    "    opening_prices = map(lambda summary: summary.opening_price, summaries)\n",
    "    return list(filter(lambda price: price >= 0, opening_prices))\n",
    "\n",
    "\n",
    "def extract_valid_daily_trading_volumes(summaries: List[DailyTickerSummary]) -> List[float]:\n",
    "    volumes = map(lambda summary: summary.traded_volume, summaries)\n",
    "    return list(filter(lambda volume: volume >= 0, volumes))\n",
    "\n",
    "\n",
    "def calculate_highest_opening_price(summaries: List[DailyTickerSummary]) -> float:\n",
    "    return max(extract_valid_opening_prices(summaries))\n",
    "\n",
    "\n",
    "def calculate_lowest_opening_price(summaries: List[DailyTickerSummary]) -> float:\n",
    "    return min(extract_valid_opening_prices(summaries))\n",
    "\n",
    "\n",
    "def calculate_greatest_single_day_delta(summaries: List[DailyTickerSummary]) -> float:\n",
    "    return max(list(map(lambda summary: summary.price_change, summaries)))\n",
    "\n",
    "\n",
    "def calculate_average_daily_trading_volume(summaries: List[DailyTickerSummary]) -> float:\n",
    "    volumes = extract_valid_daily_trading_volumes(summaries)\n",
    "    return sum(volumes) / len(volumes)\n",
    "\n",
    "\n",
    "def calculate_median_daily_trading_volume(summaries: List[DailyTickerSummary]) -> float:\n",
    "    volumes = sorted(extract_valid_daily_trading_volumes(summaries))\n",
    "    length = len(volumes)\n",
    "    index = (length - 1) // 2\n",
    "\n",
    "    if length % 2:\n",
    "        return volumes[index]\n",
    "    else:\n",
    "        return (volumes[index] + volumes[index + 1]) / 2.0\n",
    "\n",
    "\n",
    "def calculate_greatest_two_day_closing_delta(summaries: List[DailyTickerSummary]) -> float:\n",
    "    summary_count: int = len(summaries)\n",
    "    daily_closing_price_deltas: List[float] = []\n",
    "\n",
    "    for index in range(summary_count):\n",
    "        today_index = summary_count - 1 - index\n",
    "        yesterday_index = today_index - 1\n",
    "\n",
    "        if yesterday_index < 0:\n",
    "            break\n",
    "\n",
    "        today_closing = summaries[today_index].closing_price\n",
    "        yesterday_closing = summaries[yesterday_index].closing_price\n",
    "\n",
    "        if -1 not in [today_closing, yesterday_closing]:\n",
    "            closing_price_delta = abs(today_closing - yesterday_closing)\n",
    "            daily_closing_price_deltas.append(closing_price_delta)\n",
    "\n",
    "    return max(daily_closing_price_deltas)\n",
    "\n",
    "\n",
    "def analyze_daily_ticker_data(year: Union[int, str]):\n",
    "    summaries = fetch_daily_ticker_summaries(year)\n",
    "    lowest_opening_price = calculate_lowest_opening_price(summaries)\n",
    "    highest_opening_price = calculate_highest_opening_price(summaries)\n",
    "    greatest_single_day_price_delta = calculate_greatest_single_day_delta(summaries)\n",
    "    greatest_two_day_closing_price_delta = calculate_greatest_two_day_closing_delta(summaries)\n",
    "    average_daily_trading_volume = calculate_average_daily_trading_volume(summaries)\n",
    "    median_daily_trading_volume = calculate_median_daily_trading_volume(summaries)\n",
    "\n",
    "    print(f'Lowest Opening Price: {round(lowest_opening_price, 2)}')\n",
    "    print(f'Highest Opening Price: {round(highest_opening_price, 2)}')\n",
    "    print(f'Greatest Single Day Price Delta: {round(greatest_single_day_price_delta, 2)}')\n",
    "    print(f'Greatest 2-Day Closing Price Delta: {round(greatest_two_day_closing_price_delta, 2)}')\n",
    "    print(f'Average Daily Trading Volume: {round(average_daily_trading_volume, 2)}')\n",
    "    print(f'Median Daily Trading Volume: {round(median_daily_trading_volume, 2)}')\n",
    "\n",
    "\n",
    "print(\"----- AFX_X Stock Ticker Analysis -----\\n\")\n",
    "analyze_daily_ticker_data(year=2017)\n",
    "print(\"\\n---------------------------------------\")"
   ],
   "metadata": {
    "collapsed": false
   }
  }
 ],
 "metadata": {
  "interpreter": {
   "hash": "4885f37acae9217c235118400878352aafa7b76e66df698a1f601374f86939a7"
  },
  "kernelspec": {
   "name": "mec-miniprojects",
   "language": "python",
   "display_name": "Python (MEC Mini-Projects)"
  },
  "language_info": {
   "codemirror_mode": {
    "name": "ipython",
    "version": 3
   },
   "file_extension": ".py",
   "mimetype": "text/x-python",
   "name": "python",
   "nbconvert_exporter": "python",
   "pygments_lexer": "ipython3",
   "version": "3.7.16"
  }
 },
 "nbformat": 4,
 "nbformat_minor": 4
}
