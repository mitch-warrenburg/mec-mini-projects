{
 "cells": [
  {
   "cell_type": "markdown",
   "metadata": {},
   "source": [
    "# Mini-Project: Data Wrangling and Transformation with Pandas\n",
    "\n",
    "Working with tabular data is a necessity for anyone with enterprises having a majority of their data in relational databases and flat files. This mini-project is adopted from the excellent tutorial on pandas by Brandon Rhodes which you have watched earlier in the Data Wrangling Unit. In this mini-project, we will be looking at some interesting data based on movie data from the IMDB.\n",
    "\n",
    "This assignment should help you reinforce the concepts you learnt in the curriculum for Data Wrangling and sharpen your skills in using Pandas. Good Luck!"
   ]
  },
  {
   "cell_type": "markdown",
   "metadata": {},
   "source": [
    "### Please make sure you have one of the more recent versions of Pandas"
   ]
  },
  {
   "cell_type": "code",
   "execution_count": 2,
   "metadata": {},
   "outputs": [],
   "source": [
    "import pandas as pd\n",
    "import matplotlib.pyplot as plt\n"
   ]
  },
  {
   "cell_type": "code",
   "execution_count": 3,
   "metadata": {},
   "outputs": [
    {
     "data": {
      "text/plain": "'1.3.5'"
     },
     "execution_count": 3,
     "metadata": {},
     "output_type": "execute_result"
    }
   ],
   "source": [
    "pd.__version__"
   ]
  },
  {
   "cell_type": "markdown",
   "metadata": {},
   "source": [
    "## Taking a look at the Movies dataset\n",
    "This data shows the movies based on their title and the year of release"
   ]
  },
  {
   "cell_type": "code",
   "execution_count": 5,
   "metadata": {},
   "outputs": [
    {
     "name": "stdout",
     "output_type": "stream",
     "text": [
      "<class 'pandas.core.frame.DataFrame'>\n",
      "RangeIndex: 244914 entries, 0 to 244913\n",
      "Data columns (total 2 columns):\n",
      " #   Column  Non-Null Count   Dtype \n",
      "---  ------  --------------   ----- \n",
      " 0   title   244914 non-null  object\n",
      " 1   year    244914 non-null  int64 \n",
      "dtypes: int64(1), object(1)\n",
      "memory usage: 3.7+ MB\n"
     ]
    }
   ],
   "source": [
    "movies = pd.read_csv('titles.csv')\n",
    "movies.info()"
   ]
  },
  {
   "cell_type": "code",
   "execution_count": 6,
   "metadata": {},
   "outputs": [
    {
     "data": {
      "text/plain": "                                          title  year\n0                        The Ticket to the Life  2009\n1  Parallel Worlds: A New Rock Music Experience  2016\n2                     Morita - La hija de Jesus  2008\n3                                           Gun  2017\n4                        Love or Nothing at All  2014",
      "text/html": "<div>\n<style scoped>\n    .dataframe tbody tr th:only-of-type {\n        vertical-align: middle;\n    }\n\n    .dataframe tbody tr th {\n        vertical-align: top;\n    }\n\n    .dataframe thead th {\n        text-align: right;\n    }\n</style>\n<table border=\"1\" class=\"dataframe\">\n  <thead>\n    <tr style=\"text-align: right;\">\n      <th></th>\n      <th>title</th>\n      <th>year</th>\n    </tr>\n  </thead>\n  <tbody>\n    <tr>\n      <th>0</th>\n      <td>The Ticket to the Life</td>\n      <td>2009</td>\n    </tr>\n    <tr>\n      <th>1</th>\n      <td>Parallel Worlds: A New Rock Music Experience</td>\n      <td>2016</td>\n    </tr>\n    <tr>\n      <th>2</th>\n      <td>Morita - La hija de Jesus</td>\n      <td>2008</td>\n    </tr>\n    <tr>\n      <th>3</th>\n      <td>Gun</td>\n      <td>2017</td>\n    </tr>\n    <tr>\n      <th>4</th>\n      <td>Love or Nothing at All</td>\n      <td>2014</td>\n    </tr>\n  </tbody>\n</table>\n</div>"
     },
     "execution_count": 6,
     "metadata": {},
     "output_type": "execute_result"
    }
   ],
   "source": [
    "movies.head()"
   ]
  },
  {
   "cell_type": "markdown",
   "metadata": {},
   "source": [
    "## Taking a look at the Cast dataset\n",
    "\n",
    "This data shows the cast (actors, actresses, supporting roles) for each movie\n",
    "\n",
    "- The attribute `n` basically tells the importance of the cast role, lower the number, more important the role.\n",
    "- Supporting cast usually don't have any value for `n`"
   ]
  },
  {
   "cell_type": "code",
   "execution_count": 512,
   "metadata": {},
   "outputs": [
    {
     "name": "stdout",
     "output_type": "stream",
     "text": [
      "<class 'pandas.core.frame.DataFrame'>\n",
      "RangeIndex: 3786176 entries, 0 to 3786175\n",
      "Data columns (total 6 columns):\n",
      " #   Column     Dtype  \n",
      "---  ------     -----  \n",
      " 0   title      object \n",
      " 1   year       int64  \n",
      " 2   name       object \n",
      " 3   type       object \n",
      " 4   character  object \n",
      " 5   n          float64\n",
      "dtypes: float64(1), int64(1), object(4)\n",
      "memory usage: 173.3+ MB\n"
     ]
    }
   ],
   "source": [
    "cast = pd.read_csv('cast.csv.zip')\n",
    "cast.info()"
   ]
  },
  {
   "cell_type": "code",
   "execution_count": 8,
   "metadata": {},
   "outputs": [
    {
     "data": {
      "text/plain": "                                               title  year  \\\n0                                     Closet Monster  2015   \n1                                    Suuri illusioni  1985   \n2                                Battle of the Sexes  2017   \n3                               Secret in Their Eyes  2015   \n4                                         Steve Jobs  2015   \n5                             Straight Outta Compton  2015   \n6                             Straight Outta Compton  2015   \n7                                     For Thy Love 2  2009   \n8  Lapis, Ballpen at Diploma, a True to Life Journey  2014   \n9                                       Desire (III)  2014   \n\n                        name   type                               character  \\\n0                   Buffy #1  actor                                 Buffy 4   \n1                     Homo $  actor                                  Guests   \n2                    $hutter  actor                         Bobby Riggs Fan   \n3                    $hutter  actor                         2002 Dodger Fan   \n4                    $hutter  actor                 1988 Opera House Patron   \n5                    $hutter  actor                             Club Patron   \n6                    $hutter  actor                                 Dopeman   \n7               Bee Moe $lim  actor                                  Thug 1   \n8  Jori ' Danilo' Jurado Jr.  actor                           Jaime (young)   \n9           Syaiful 'Ariffin  actor  Actor Playing Eteocles from 'Antigone'   \n\n      n  \n0  31.0  \n1  22.0  \n2  10.0  \n3   NaN  \n4   NaN  \n5   NaN  \n6   NaN  \n7   NaN  \n8   9.0  \n9   NaN  ",
      "text/html": "<div>\n<style scoped>\n    .dataframe tbody tr th:only-of-type {\n        vertical-align: middle;\n    }\n\n    .dataframe tbody tr th {\n        vertical-align: top;\n    }\n\n    .dataframe thead th {\n        text-align: right;\n    }\n</style>\n<table border=\"1\" class=\"dataframe\">\n  <thead>\n    <tr style=\"text-align: right;\">\n      <th></th>\n      <th>title</th>\n      <th>year</th>\n      <th>name</th>\n      <th>type</th>\n      <th>character</th>\n      <th>n</th>\n    </tr>\n  </thead>\n  <tbody>\n    <tr>\n      <th>0</th>\n      <td>Closet Monster</td>\n      <td>2015</td>\n      <td>Buffy #1</td>\n      <td>actor</td>\n      <td>Buffy 4</td>\n      <td>31.0</td>\n    </tr>\n    <tr>\n      <th>1</th>\n      <td>Suuri illusioni</td>\n      <td>1985</td>\n      <td>Homo $</td>\n      <td>actor</td>\n      <td>Guests</td>\n      <td>22.0</td>\n    </tr>\n    <tr>\n      <th>2</th>\n      <td>Battle of the Sexes</td>\n      <td>2017</td>\n      <td>$hutter</td>\n      <td>actor</td>\n      <td>Bobby Riggs Fan</td>\n      <td>10.0</td>\n    </tr>\n    <tr>\n      <th>3</th>\n      <td>Secret in Their Eyes</td>\n      <td>2015</td>\n      <td>$hutter</td>\n      <td>actor</td>\n      <td>2002 Dodger Fan</td>\n      <td>NaN</td>\n    </tr>\n    <tr>\n      <th>4</th>\n      <td>Steve Jobs</td>\n      <td>2015</td>\n      <td>$hutter</td>\n      <td>actor</td>\n      <td>1988 Opera House Patron</td>\n      <td>NaN</td>\n    </tr>\n    <tr>\n      <th>5</th>\n      <td>Straight Outta Compton</td>\n      <td>2015</td>\n      <td>$hutter</td>\n      <td>actor</td>\n      <td>Club Patron</td>\n      <td>NaN</td>\n    </tr>\n    <tr>\n      <th>6</th>\n      <td>Straight Outta Compton</td>\n      <td>2015</td>\n      <td>$hutter</td>\n      <td>actor</td>\n      <td>Dopeman</td>\n      <td>NaN</td>\n    </tr>\n    <tr>\n      <th>7</th>\n      <td>For Thy Love 2</td>\n      <td>2009</td>\n      <td>Bee Moe $lim</td>\n      <td>actor</td>\n      <td>Thug 1</td>\n      <td>NaN</td>\n    </tr>\n    <tr>\n      <th>8</th>\n      <td>Lapis, Ballpen at Diploma, a True to Life Journey</td>\n      <td>2014</td>\n      <td>Jori ' Danilo' Jurado Jr.</td>\n      <td>actor</td>\n      <td>Jaime (young)</td>\n      <td>9.0</td>\n    </tr>\n    <tr>\n      <th>9</th>\n      <td>Desire (III)</td>\n      <td>2014</td>\n      <td>Syaiful 'Ariffin</td>\n      <td>actor</td>\n      <td>Actor Playing Eteocles from 'Antigone'</td>\n      <td>NaN</td>\n    </tr>\n  </tbody>\n</table>\n</div>"
     },
     "execution_count": 8,
     "metadata": {},
     "output_type": "execute_result"
    }
   ],
   "source": [
    "cast.head(10)"
   ]
  },
  {
   "cell_type": "markdown",
   "metadata": {},
   "source": [
    "## Taking a look at the Release dataset\n",
    "\n",
    "This data shows details of when each movie was release in each country with the release date"
   ]
  },
  {
   "cell_type": "code",
   "execution_count": 10,
   "metadata": {},
   "outputs": [
    {
     "name": "stdout",
     "output_type": "stream",
     "text": [
      "<class 'pandas.core.frame.DataFrame'>\n",
      "RangeIndex: 479488 entries, 0 to 479487\n",
      "Data columns (total 4 columns):\n",
      " #   Column   Non-Null Count   Dtype         \n",
      "---  ------   --------------   -----         \n",
      " 0   title    479488 non-null  object        \n",
      " 1   year     479488 non-null  int64         \n",
      " 2   country  479488 non-null  object        \n",
      " 3   date     479488 non-null  datetime64[ns]\n",
      "dtypes: datetime64[ns](1), int64(1), object(2)\n",
      "memory usage: 14.6+ MB\n"
     ]
    }
   ],
   "source": [
    "release_dates = pd.read_csv('release_dates.csv', parse_dates=['date'], infer_datetime_format=True)\n",
    "release_dates.info()"
   ]
  },
  {
   "cell_type": "code",
   "execution_count": 11,
   "metadata": {},
   "outputs": [
    {
     "data": {
      "text/plain": "                    title  year      country       date\n0   #73, Shaanthi Nivaasa  2007        India 2007-06-15\n1                   #BKKY  2016     Cambodia 2017-10-12\n2                 #Beings  2015      Romania 2015-01-29\n3               #Captured  2017          USA 2017-09-05\n4  #Ewankosau saranghaeyo  2015  Philippines 2015-01-21",
      "text/html": "<div>\n<style scoped>\n    .dataframe tbody tr th:only-of-type {\n        vertical-align: middle;\n    }\n\n    .dataframe tbody tr th {\n        vertical-align: top;\n    }\n\n    .dataframe thead th {\n        text-align: right;\n    }\n</style>\n<table border=\"1\" class=\"dataframe\">\n  <thead>\n    <tr style=\"text-align: right;\">\n      <th></th>\n      <th>title</th>\n      <th>year</th>\n      <th>country</th>\n      <th>date</th>\n    </tr>\n  </thead>\n  <tbody>\n    <tr>\n      <th>0</th>\n      <td>#73, Shaanthi Nivaasa</td>\n      <td>2007</td>\n      <td>India</td>\n      <td>2007-06-15</td>\n    </tr>\n    <tr>\n      <th>1</th>\n      <td>#BKKY</td>\n      <td>2016</td>\n      <td>Cambodia</td>\n      <td>2017-10-12</td>\n    </tr>\n    <tr>\n      <th>2</th>\n      <td>#Beings</td>\n      <td>2015</td>\n      <td>Romania</td>\n      <td>2015-01-29</td>\n    </tr>\n    <tr>\n      <th>3</th>\n      <td>#Captured</td>\n      <td>2017</td>\n      <td>USA</td>\n      <td>2017-09-05</td>\n    </tr>\n    <tr>\n      <th>4</th>\n      <td>#Ewankosau saranghaeyo</td>\n      <td>2015</td>\n      <td>Philippines</td>\n      <td>2015-01-21</td>\n    </tr>\n  </tbody>\n</table>\n</div>"
     },
     "execution_count": 11,
     "metadata": {},
     "output_type": "execute_result"
    }
   ],
   "source": [
    "release_dates.head()"
   ]
  },
  {
   "cell_type": "markdown",
   "metadata": {},
   "source": [
    "# Section I - Basic Querying, Filtering and Transformations"
   ]
  },
  {
   "cell_type": "markdown",
   "metadata": {},
   "source": [
    "### What is the total number of movies?"
   ]
  },
  {
   "cell_type": "code",
   "execution_count": 12,
   "metadata": {},
   "outputs": [
    {
     "data": {
      "text/plain": "244914"
     },
     "execution_count": 12,
     "metadata": {},
     "output_type": "execute_result"
    }
   ],
   "source": [
    "len(movies)"
   ]
  },
  {
   "cell_type": "markdown",
   "source": [
    "### List all Batman movies ever made"
   ],
   "metadata": {
    "collapsed": false
   }
  },
  {
   "cell_type": "code",
   "execution_count": 13,
   "metadata": {},
   "outputs": [
    {
     "name": "stdout",
     "output_type": "stream",
     "text": [
      "Total Batman Movies: 2\n"
     ]
    },
    {
     "data": {
      "text/plain": "         title  year\n52734   Batman  1943\n150621  Batman  1989",
      "text/html": "<div>\n<style scoped>\n    .dataframe tbody tr th:only-of-type {\n        vertical-align: middle;\n    }\n\n    .dataframe tbody tr th {\n        vertical-align: top;\n    }\n\n    .dataframe thead th {\n        text-align: right;\n    }\n</style>\n<table border=\"1\" class=\"dataframe\">\n  <thead>\n    <tr style=\"text-align: right;\">\n      <th></th>\n      <th>title</th>\n      <th>year</th>\n    </tr>\n  </thead>\n  <tbody>\n    <tr>\n      <th>52734</th>\n      <td>Batman</td>\n      <td>1943</td>\n    </tr>\n    <tr>\n      <th>150621</th>\n      <td>Batman</td>\n      <td>1989</td>\n    </tr>\n  </tbody>\n</table>\n</div>"
     },
     "execution_count": 13,
     "metadata": {},
     "output_type": "execute_result"
    }
   ],
   "source": [
    "batman_df = movies[movies.title == 'Batman']\n",
    "print('Total Batman Movies:', len(batman_df))\n",
    "batman_df"
   ]
  },
  {
   "cell_type": "markdown",
   "metadata": {},
   "source": [
    "### List all Batman movies ever made - the right approach"
   ]
  },
  {
   "cell_type": "code",
   "execution_count": 14,
   "metadata": {},
   "outputs": [
    {
     "name": "stdout",
     "output_type": "stream",
     "text": [
      "Total Batman Movies: 35\n"
     ]
    },
    {
     "data": {
      "text/plain": "                                             title  year\n16813                              Batman: Anarchy  2016\n30236                               Batman Forever  1995\n31674                                Batman Untold  2010\n31711  Scooby-Doo & Batman: the Brave and the Bold  2018\n41881                  Batman the Rise of Red Hood  2018\n43484        Batman: Return of the Caped Crusaders  2016\n46333                               Batman & Robin  1997\n51811                              Batman Revealed  2012\n52734                                       Batman  1943\n56029                 Batman Beyond: Rising Knight  2014",
      "text/html": "<div>\n<style scoped>\n    .dataframe tbody tr th:only-of-type {\n        vertical-align: middle;\n    }\n\n    .dataframe tbody tr th {\n        vertical-align: top;\n    }\n\n    .dataframe thead th {\n        text-align: right;\n    }\n</style>\n<table border=\"1\" class=\"dataframe\">\n  <thead>\n    <tr style=\"text-align: right;\">\n      <th></th>\n      <th>title</th>\n      <th>year</th>\n    </tr>\n  </thead>\n  <tbody>\n    <tr>\n      <th>16813</th>\n      <td>Batman: Anarchy</td>\n      <td>2016</td>\n    </tr>\n    <tr>\n      <th>30236</th>\n      <td>Batman Forever</td>\n      <td>1995</td>\n    </tr>\n    <tr>\n      <th>31674</th>\n      <td>Batman Untold</td>\n      <td>2010</td>\n    </tr>\n    <tr>\n      <th>31711</th>\n      <td>Scooby-Doo &amp; Batman: the Brave and the Bold</td>\n      <td>2018</td>\n    </tr>\n    <tr>\n      <th>41881</th>\n      <td>Batman the Rise of Red Hood</td>\n      <td>2018</td>\n    </tr>\n    <tr>\n      <th>43484</th>\n      <td>Batman: Return of the Caped Crusaders</td>\n      <td>2016</td>\n    </tr>\n    <tr>\n      <th>46333</th>\n      <td>Batman &amp; Robin</td>\n      <td>1997</td>\n    </tr>\n    <tr>\n      <th>51811</th>\n      <td>Batman Revealed</td>\n      <td>2012</td>\n    </tr>\n    <tr>\n      <th>52734</th>\n      <td>Batman</td>\n      <td>1943</td>\n    </tr>\n    <tr>\n      <th>56029</th>\n      <td>Batman Beyond: Rising Knight</td>\n      <td>2014</td>\n    </tr>\n  </tbody>\n</table>\n</div>"
     },
     "execution_count": 14,
     "metadata": {},
     "output_type": "execute_result"
    }
   ],
   "source": [
    "batman_df = movies[movies.title.str.contains('Batman', case=False)]\n",
    "print('Total Batman Movies:', len(batman_df))\n",
    "batman_df.head(10)"
   ]
  },
  {
   "cell_type": "markdown",
   "metadata": {},
   "source": [
    "### Display the top 15 Batman movies in the order they were released"
   ]
  },
  {
   "cell_type": "code",
   "execution_count": 15,
   "metadata": {},
   "outputs": [
    {
     "data": {
      "text/plain": "                               title  year\n52734                         Batman  1943\n100056              Batman and Robin  1949\n161439                Batman Dracula  1964\n84327          Alyas Batman at Robin  1965\n68364                   James Batman  1966\n161527             Batman: The Movie  1966\n56159          Batman Fights Dracula  1967\n168504         Fight! Batman, Fight!  1973\n150621                        Batman  1989\n156239         Alyas Batman en Robin  1991\n156755                Batman Returns  1992\n63366   Batman: Mask of the Phantasm  1993\n30236                 Batman Forever  1995\n46333                 Batman & Robin  1997\n208220                 Batman Begins  2005",
      "text/html": "<div>\n<style scoped>\n    .dataframe tbody tr th:only-of-type {\n        vertical-align: middle;\n    }\n\n    .dataframe tbody tr th {\n        vertical-align: top;\n    }\n\n    .dataframe thead th {\n        text-align: right;\n    }\n</style>\n<table border=\"1\" class=\"dataframe\">\n  <thead>\n    <tr style=\"text-align: right;\">\n      <th></th>\n      <th>title</th>\n      <th>year</th>\n    </tr>\n  </thead>\n  <tbody>\n    <tr>\n      <th>52734</th>\n      <td>Batman</td>\n      <td>1943</td>\n    </tr>\n    <tr>\n      <th>100056</th>\n      <td>Batman and Robin</td>\n      <td>1949</td>\n    </tr>\n    <tr>\n      <th>161439</th>\n      <td>Batman Dracula</td>\n      <td>1964</td>\n    </tr>\n    <tr>\n      <th>84327</th>\n      <td>Alyas Batman at Robin</td>\n      <td>1965</td>\n    </tr>\n    <tr>\n      <th>68364</th>\n      <td>James Batman</td>\n      <td>1966</td>\n    </tr>\n    <tr>\n      <th>161527</th>\n      <td>Batman: The Movie</td>\n      <td>1966</td>\n    </tr>\n    <tr>\n      <th>56159</th>\n      <td>Batman Fights Dracula</td>\n      <td>1967</td>\n    </tr>\n    <tr>\n      <th>168504</th>\n      <td>Fight! Batman, Fight!</td>\n      <td>1973</td>\n    </tr>\n    <tr>\n      <th>150621</th>\n      <td>Batman</td>\n      <td>1989</td>\n    </tr>\n    <tr>\n      <th>156239</th>\n      <td>Alyas Batman en Robin</td>\n      <td>1991</td>\n    </tr>\n    <tr>\n      <th>156755</th>\n      <td>Batman Returns</td>\n      <td>1992</td>\n    </tr>\n    <tr>\n      <th>63366</th>\n      <td>Batman: Mask of the Phantasm</td>\n      <td>1993</td>\n    </tr>\n    <tr>\n      <th>30236</th>\n      <td>Batman Forever</td>\n      <td>1995</td>\n    </tr>\n    <tr>\n      <th>46333</th>\n      <td>Batman &amp; Robin</td>\n      <td>1997</td>\n    </tr>\n    <tr>\n      <th>208220</th>\n      <td>Batman Begins</td>\n      <td>2005</td>\n    </tr>\n  </tbody>\n</table>\n</div>"
     },
     "execution_count": 15,
     "metadata": {},
     "output_type": "execute_result"
    }
   ],
   "source": [
    "batman_df.sort_values(by=['year'], ascending=True).iloc[:15]"
   ]
  },
  {
   "cell_type": "markdown",
   "metadata": {},
   "source": [
    "### Section I - Q1 : List all the 'Harry Potter' movies from the most recent to the earliest"
   ]
  },
  {
   "cell_type": "code",
   "execution_count": 119,
   "metadata": {},
   "outputs": [
    {
     "data": {
      "text/plain": "                                               title  year\n143147  Harry Potter and the Deathly Hallows: Part 2  2011\n152831  Harry Potter and the Deathly Hallows: Part 1  2010\n109213        Harry Potter and the Half-Blood Prince  2009\n50581      Harry Potter and the Order of the Phoenix  2007\n187926           Harry Potter and the Goblet of Fire  2005\n61957       Harry Potter and the Prisoner of Azkaban  2004\n82791        Harry Potter and the Chamber of Secrets  2002\n223087         Harry Potter and the Sorcerer's Stone  2001",
      "text/html": "<div>\n<style scoped>\n    .dataframe tbody tr th:only-of-type {\n        vertical-align: middle;\n    }\n\n    .dataframe tbody tr th {\n        vertical-align: top;\n    }\n\n    .dataframe thead th {\n        text-align: right;\n    }\n</style>\n<table border=\"1\" class=\"dataframe\">\n  <thead>\n    <tr style=\"text-align: right;\">\n      <th></th>\n      <th>title</th>\n      <th>year</th>\n    </tr>\n  </thead>\n  <tbody>\n    <tr>\n      <th>143147</th>\n      <td>Harry Potter and the Deathly Hallows: Part 2</td>\n      <td>2011</td>\n    </tr>\n    <tr>\n      <th>152831</th>\n      <td>Harry Potter and the Deathly Hallows: Part 1</td>\n      <td>2010</td>\n    </tr>\n    <tr>\n      <th>109213</th>\n      <td>Harry Potter and the Half-Blood Prince</td>\n      <td>2009</td>\n    </tr>\n    <tr>\n      <th>50581</th>\n      <td>Harry Potter and the Order of the Phoenix</td>\n      <td>2007</td>\n    </tr>\n    <tr>\n      <th>187926</th>\n      <td>Harry Potter and the Goblet of Fire</td>\n      <td>2005</td>\n    </tr>\n    <tr>\n      <th>61957</th>\n      <td>Harry Potter and the Prisoner of Azkaban</td>\n      <td>2004</td>\n    </tr>\n    <tr>\n      <th>82791</th>\n      <td>Harry Potter and the Chamber of Secrets</td>\n      <td>2002</td>\n    </tr>\n    <tr>\n      <th>223087</th>\n      <td>Harry Potter and the Sorcerer's Stone</td>\n      <td>2001</td>\n    </tr>\n  </tbody>\n</table>\n</div>"
     },
     "execution_count": 119,
     "metadata": {},
     "output_type": "execute_result"
    }
   ],
   "source": [
    "hp_movies = movies[movies.title.str\n",
    ".contains('harry potter', case=False)] \\\n",
    "    .sort_values(by=['year'], ascending=False)\n",
    "\n",
    "hp_movies"
   ]
  },
  {
   "cell_type": "markdown",
   "metadata": {},
   "source": [
    "### How many movies were made in the year 2017?"
   ]
  },
  {
   "cell_type": "code",
   "execution_count": 22,
   "metadata": {},
   "outputs": [
    {
     "data": {
      "text/plain": "11474"
     },
     "execution_count": 22,
     "metadata": {},
     "output_type": "execute_result"
    }
   ],
   "source": [
    "len(movies[movies.year == 2017])"
   ]
  },
  {
   "cell_type": "markdown",
   "metadata": {},
   "source": [
    "### Section I - Q2 : How many movies were made in the year 2015?"
   ]
  },
  {
   "cell_type": "code",
   "execution_count": 23,
   "metadata": {},
   "outputs": [
    {
     "data": {
      "text/plain": "8702"
     },
     "execution_count": 23,
     "metadata": {},
     "output_type": "execute_result"
    }
   ],
   "source": [
    "len(movies[movies.year == 2015])"
   ]
  },
  {
   "cell_type": "markdown",
   "metadata": {},
   "source": [
    "### Section I - Q3 : How many movies were made from 2000 till 2018?\n",
    "- You can chain multiple conditions using OR (`|`) as well as AND (`&`) depending on the condition"
   ]
  },
  {
   "cell_type": "code",
   "execution_count": 25,
   "metadata": {},
   "outputs": [
    {
     "data": {
      "text/plain": "114070"
     },
     "execution_count": 25,
     "metadata": {},
     "output_type": "execute_result"
    }
   ],
   "source": [
    "len(movies[(movies.year >= 2000) & (movies.year <= 2018)])"
   ]
  },
  {
   "cell_type": "markdown",
   "metadata": {},
   "source": [
    "### Section I - Q4: How many movies are titled \"Hamlet\"?"
   ]
  },
  {
   "cell_type": "code",
   "execution_count": 26,
   "metadata": {},
   "outputs": [
    {
     "data": {
      "text/plain": "20"
     },
     "execution_count": 26,
     "metadata": {},
     "output_type": "execute_result"
    }
   ],
   "source": [
    "len(movies[movies.title == 'Hamlet'])"
   ]
  },
  {
   "cell_type": "markdown",
   "metadata": {},
   "source": [
    "### Section I - Q5: List all movies titled \"Hamlet\" \n",
    "- The movies should only have been released on or after the year 2000\n",
    "- Display the movies based on the year they were released (earliest to most recent)"
   ]
  },
  {
   "cell_type": "code",
   "execution_count": 32,
   "metadata": {},
   "outputs": [
    {
     "data": {
      "text/plain": "         title  year\n55639   Hamlet  2000\n1931    Hamlet  2009\n227953  Hamlet  2011\n178290  Hamlet  2014\n186137  Hamlet  2015\n191940  Hamlet  2016\n244747  Hamlet  2017",
      "text/html": "<div>\n<style scoped>\n    .dataframe tbody tr th:only-of-type {\n        vertical-align: middle;\n    }\n\n    .dataframe tbody tr th {\n        vertical-align: top;\n    }\n\n    .dataframe thead th {\n        text-align: right;\n    }\n</style>\n<table border=\"1\" class=\"dataframe\">\n  <thead>\n    <tr style=\"text-align: right;\">\n      <th></th>\n      <th>title</th>\n      <th>year</th>\n    </tr>\n  </thead>\n  <tbody>\n    <tr>\n      <th>55639</th>\n      <td>Hamlet</td>\n      <td>2000</td>\n    </tr>\n    <tr>\n      <th>1931</th>\n      <td>Hamlet</td>\n      <td>2009</td>\n    </tr>\n    <tr>\n      <th>227953</th>\n      <td>Hamlet</td>\n      <td>2011</td>\n    </tr>\n    <tr>\n      <th>178290</th>\n      <td>Hamlet</td>\n      <td>2014</td>\n    </tr>\n    <tr>\n      <th>186137</th>\n      <td>Hamlet</td>\n      <td>2015</td>\n    </tr>\n    <tr>\n      <th>191940</th>\n      <td>Hamlet</td>\n      <td>2016</td>\n    </tr>\n    <tr>\n      <th>244747</th>\n      <td>Hamlet</td>\n      <td>2017</td>\n    </tr>\n  </tbody>\n</table>\n</div>"
     },
     "execution_count": 32,
     "metadata": {},
     "output_type": "execute_result"
    }
   ],
   "source": [
    "movies[(movies.title == 'Hamlet') & (movies.year >= 2000)].sort_values(by=['year'], ascending=True)"
   ]
  },
  {
   "cell_type": "markdown",
   "metadata": {},
   "source": [
    "### Section I - Q6: How many roles in the movie \"Inception\" are of the supporting cast (extra credits)\n",
    "- supporting cast are NOT ranked by an \"n\" value (NaN)\n",
    "- check for how to filter based on nulls"
   ]
  },
  {
   "cell_type": "code",
   "execution_count": 92,
   "metadata": {},
   "outputs": [
    {
     "data": {
      "text/plain": "27"
     },
     "execution_count": 92,
     "metadata": {},
     "output_type": "execute_result"
    }
   ],
   "source": [
    "len(cast[(cast.title == 'Inception') & (cast.n.isnull())])"
   ]
  },
  {
   "cell_type": "markdown",
   "metadata": {},
   "source": [
    "### Section I - Q7: How many roles in the movie \"Inception\" are of the main cast\n",
    "- main cast always have an 'n' value"
   ]
  },
  {
   "cell_type": "code",
   "execution_count": 100,
   "metadata": {},
   "outputs": [
    {
     "data": {
      "text/plain": "51"
     },
     "execution_count": 100,
     "metadata": {},
     "output_type": "execute_result"
    }
   ],
   "source": [
    "cast[cast.title == 'Inception'].n.dropna().count()"
   ]
  },
  {
   "cell_type": "markdown",
   "metadata": {},
   "source": [
    "### Section I - Q8: Show the top ten cast (actors\\actresses) in the movie \"Inception\" \n",
    "- main cast always have an 'n' value\n",
    "- remember to sort!"
   ]
  },
  {
   "cell_type": "markdown",
   "source": [],
   "metadata": {
    "collapsed": false
   }
  },
  {
   "cell_type": "code",
   "execution_count": 110,
   "metadata": {},
   "outputs": [
    {
     "data": {
      "text/plain": "             title  year                  name     type        character     n\n590576   Inception  2010     Leonardo DiCaprio    actor             Cobb   1.0\n859993   Inception  2010  Joseph Gordon-Levitt    actor           Arthur   2.0\n3387147  Inception  2010            Ellen Page  actress          Ariadne   3.0\n940923   Inception  2010             Tom Hardy    actor            Eames   4.0\n2406531  Inception  2010          Ken Watanabe    actor            Saito   5.0\n1876301  Inception  2010            Dileep Rao    actor            Yusuf   6.0\n1615709  Inception  2010        Cillian Murphy    actor   Robert Fischer   7.0\n183937   Inception  2010          Tom Berenger    actor         Browning   8.0\n2765969  Inception  2010      Marion Cotillard  actress              Mal   9.0\n1826027  Inception  2010    Pete Postlethwaite    actor  Maurice Fischer  10.0",
      "text/html": "<div>\n<style scoped>\n    .dataframe tbody tr th:only-of-type {\n        vertical-align: middle;\n    }\n\n    .dataframe tbody tr th {\n        vertical-align: top;\n    }\n\n    .dataframe thead th {\n        text-align: right;\n    }\n</style>\n<table border=\"1\" class=\"dataframe\">\n  <thead>\n    <tr style=\"text-align: right;\">\n      <th></th>\n      <th>title</th>\n      <th>year</th>\n      <th>name</th>\n      <th>type</th>\n      <th>character</th>\n      <th>n</th>\n    </tr>\n  </thead>\n  <tbody>\n    <tr>\n      <th>590576</th>\n      <td>Inception</td>\n      <td>2010</td>\n      <td>Leonardo DiCaprio</td>\n      <td>actor</td>\n      <td>Cobb</td>\n      <td>1.0</td>\n    </tr>\n    <tr>\n      <th>859993</th>\n      <td>Inception</td>\n      <td>2010</td>\n      <td>Joseph Gordon-Levitt</td>\n      <td>actor</td>\n      <td>Arthur</td>\n      <td>2.0</td>\n    </tr>\n    <tr>\n      <th>3387147</th>\n      <td>Inception</td>\n      <td>2010</td>\n      <td>Ellen Page</td>\n      <td>actress</td>\n      <td>Ariadne</td>\n      <td>3.0</td>\n    </tr>\n    <tr>\n      <th>940923</th>\n      <td>Inception</td>\n      <td>2010</td>\n      <td>Tom Hardy</td>\n      <td>actor</td>\n      <td>Eames</td>\n      <td>4.0</td>\n    </tr>\n    <tr>\n      <th>2406531</th>\n      <td>Inception</td>\n      <td>2010</td>\n      <td>Ken Watanabe</td>\n      <td>actor</td>\n      <td>Saito</td>\n      <td>5.0</td>\n    </tr>\n    <tr>\n      <th>1876301</th>\n      <td>Inception</td>\n      <td>2010</td>\n      <td>Dileep Rao</td>\n      <td>actor</td>\n      <td>Yusuf</td>\n      <td>6.0</td>\n    </tr>\n    <tr>\n      <th>1615709</th>\n      <td>Inception</td>\n      <td>2010</td>\n      <td>Cillian Murphy</td>\n      <td>actor</td>\n      <td>Robert Fischer</td>\n      <td>7.0</td>\n    </tr>\n    <tr>\n      <th>183937</th>\n      <td>Inception</td>\n      <td>2010</td>\n      <td>Tom Berenger</td>\n      <td>actor</td>\n      <td>Browning</td>\n      <td>8.0</td>\n    </tr>\n    <tr>\n      <th>2765969</th>\n      <td>Inception</td>\n      <td>2010</td>\n      <td>Marion Cotillard</td>\n      <td>actress</td>\n      <td>Mal</td>\n      <td>9.0</td>\n    </tr>\n    <tr>\n      <th>1826027</th>\n      <td>Inception</td>\n      <td>2010</td>\n      <td>Pete Postlethwaite</td>\n      <td>actor</td>\n      <td>Maurice Fischer</td>\n      <td>10.0</td>\n    </tr>\n  </tbody>\n</table>\n</div>"
     },
     "execution_count": 110,
     "metadata": {},
     "output_type": "execute_result"
    }
   ],
   "source": [
    "cast[cast.title == 'Inception'].dropna().sort_values(by='n').head(10)"
   ]
  },
  {
   "cell_type": "markdown",
   "metadata": {},
   "source": [
    "### Section I - Q9:\n",
    "\n",
    "(A) List all movies where there was a character 'Albus Dumbledore' \n",
    "\n",
    "(B) Now modify the above to show only the actors who played the character 'Albus Dumbledore'\n",
    "- For Part (B) remember the same actor might play the same role in multiple movies"
   ]
  },
  {
   "cell_type": "code",
   "execution_count": 115,
   "metadata": {},
   "outputs": [
    {
     "data": {
      "text/plain": "array(['Dane Farwell', 'Michael Gambon', 'Richard Harris',\n       \"George (X) O'Connor\", 'Timothy Tedmanson'], dtype=object)"
     },
     "execution_count": 115,
     "metadata": {},
     "output_type": "execute_result"
    }
   ],
   "source": [
    "cast[cast.character == 'Albus Dumbledore'].name.unique()"
   ]
  },
  {
   "cell_type": "markdown",
   "metadata": {},
   "source": [
    "### Section I - Q10:\n",
    "\n",
    "(A) How many roles has 'Keanu Reeves' played throughout his career?\n",
    "\n",
    "(B) List the leading roles that 'Keanu Reeves' played on or after 1999 in order by year."
   ]
  },
  {
   "cell_type": "code",
   "execution_count": 148,
   "metadata": {},
   "outputs": [
    {
     "name": "stdout",
     "output_type": "stream",
     "text": [
      "Role count: 62\n",
      "Lead roles played from 1999:\n"
     ]
    },
    {
     "data": {
      "text/plain": "                                 title  year          name   type  \\\n1892390                     The Matrix  1999  Keanu Reeves  actor   \n1892397               The Replacements  2000  Keanu Reeves  actor   \n1892358                      Hard Ball  2001  Keanu Reeves  actor   \n1892383                 Sweet November  2001  Keanu Reeves  actor   \n1892348                    Constantine  2005  Keanu Reeves  actor   \n1892388                 The Lake House  2006  Keanu Reeves  actor   \n1892382                   Street Kings  2008  Keanu Reeves  actor   \n1892385  The Day the Earth Stood Still  2008  Keanu Reeves  actor   \n1892359                  Henry's Crime  2010  Keanu Reeves  actor   \n1892342                       47 Ronin  2013  Keanu Reeves  actor   \n1892361                      John Wick  2014  Keanu Reeves  actor   \n1892366                    Knock Knock  2015  Keanu Reeves  actor   \n1892399                The Whole Truth  2016  Keanu Reeves  actor   \n1892362           John Wick: Chapter 2  2017  Keanu Reeves  actor   \n1892378                        Siberia  2018  Keanu Reeves  actor   \n\n                    character    n  \n1892390                   Neo  1.0  \n1892397           Shane Falco  1.0  \n1892358         Conor O'Neill  1.0  \n1892383           Nelson Moss  1.0  \n1892348      John Constantine  1.0  \n1892388            Alex Wyler  1.0  \n1892382  Detective Tom Ludlow  1.0  \n1892385                Klaatu  1.0  \n1892359           Henry Torne  1.0  \n1892342                   Kai  1.0  \n1892361             John Wick  1.0  \n1892366                  Evan  1.0  \n1892399                Ramsey  1.0  \n1892362             John Wick  1.0  \n1892378            Lucas Hill  1.0  ",
      "text/html": "<div>\n<style scoped>\n    .dataframe tbody tr th:only-of-type {\n        vertical-align: middle;\n    }\n\n    .dataframe tbody tr th {\n        vertical-align: top;\n    }\n\n    .dataframe thead th {\n        text-align: right;\n    }\n</style>\n<table border=\"1\" class=\"dataframe\">\n  <thead>\n    <tr style=\"text-align: right;\">\n      <th></th>\n      <th>title</th>\n      <th>year</th>\n      <th>name</th>\n      <th>type</th>\n      <th>character</th>\n      <th>n</th>\n    </tr>\n  </thead>\n  <tbody>\n    <tr>\n      <th>1892390</th>\n      <td>The Matrix</td>\n      <td>1999</td>\n      <td>Keanu Reeves</td>\n      <td>actor</td>\n      <td>Neo</td>\n      <td>1.0</td>\n    </tr>\n    <tr>\n      <th>1892397</th>\n      <td>The Replacements</td>\n      <td>2000</td>\n      <td>Keanu Reeves</td>\n      <td>actor</td>\n      <td>Shane Falco</td>\n      <td>1.0</td>\n    </tr>\n    <tr>\n      <th>1892358</th>\n      <td>Hard Ball</td>\n      <td>2001</td>\n      <td>Keanu Reeves</td>\n      <td>actor</td>\n      <td>Conor O'Neill</td>\n      <td>1.0</td>\n    </tr>\n    <tr>\n      <th>1892383</th>\n      <td>Sweet November</td>\n      <td>2001</td>\n      <td>Keanu Reeves</td>\n      <td>actor</td>\n      <td>Nelson Moss</td>\n      <td>1.0</td>\n    </tr>\n    <tr>\n      <th>1892348</th>\n      <td>Constantine</td>\n      <td>2005</td>\n      <td>Keanu Reeves</td>\n      <td>actor</td>\n      <td>John Constantine</td>\n      <td>1.0</td>\n    </tr>\n    <tr>\n      <th>1892388</th>\n      <td>The Lake House</td>\n      <td>2006</td>\n      <td>Keanu Reeves</td>\n      <td>actor</td>\n      <td>Alex Wyler</td>\n      <td>1.0</td>\n    </tr>\n    <tr>\n      <th>1892382</th>\n      <td>Street Kings</td>\n      <td>2008</td>\n      <td>Keanu Reeves</td>\n      <td>actor</td>\n      <td>Detective Tom Ludlow</td>\n      <td>1.0</td>\n    </tr>\n    <tr>\n      <th>1892385</th>\n      <td>The Day the Earth Stood Still</td>\n      <td>2008</td>\n      <td>Keanu Reeves</td>\n      <td>actor</td>\n      <td>Klaatu</td>\n      <td>1.0</td>\n    </tr>\n    <tr>\n      <th>1892359</th>\n      <td>Henry's Crime</td>\n      <td>2010</td>\n      <td>Keanu Reeves</td>\n      <td>actor</td>\n      <td>Henry Torne</td>\n      <td>1.0</td>\n    </tr>\n    <tr>\n      <th>1892342</th>\n      <td>47 Ronin</td>\n      <td>2013</td>\n      <td>Keanu Reeves</td>\n      <td>actor</td>\n      <td>Kai</td>\n      <td>1.0</td>\n    </tr>\n    <tr>\n      <th>1892361</th>\n      <td>John Wick</td>\n      <td>2014</td>\n      <td>Keanu Reeves</td>\n      <td>actor</td>\n      <td>John Wick</td>\n      <td>1.0</td>\n    </tr>\n    <tr>\n      <th>1892366</th>\n      <td>Knock Knock</td>\n      <td>2015</td>\n      <td>Keanu Reeves</td>\n      <td>actor</td>\n      <td>Evan</td>\n      <td>1.0</td>\n    </tr>\n    <tr>\n      <th>1892399</th>\n      <td>The Whole Truth</td>\n      <td>2016</td>\n      <td>Keanu Reeves</td>\n      <td>actor</td>\n      <td>Ramsey</td>\n      <td>1.0</td>\n    </tr>\n    <tr>\n      <th>1892362</th>\n      <td>John Wick: Chapter 2</td>\n      <td>2017</td>\n      <td>Keanu Reeves</td>\n      <td>actor</td>\n      <td>John Wick</td>\n      <td>1.0</td>\n    </tr>\n    <tr>\n      <th>1892378</th>\n      <td>Siberia</td>\n      <td>2018</td>\n      <td>Keanu Reeves</td>\n      <td>actor</td>\n      <td>Lucas Hill</td>\n      <td>1.0</td>\n    </tr>\n  </tbody>\n</table>\n</div>"
     },
     "execution_count": 148,
     "metadata": {},
     "output_type": "execute_result"
    }
   ],
   "source": [
    "keanu_reeves_roles = cast[cast.name == 'Keanu Reeves']\n",
    "\n",
    "print(f\"Role count: {len(keanu_reeves_roles)}\")\n",
    "print('Lead roles played from 1999:')\n",
    "\n",
    "keanu_reeves_roles[(keanu_reeves_roles.year >= 1999) & (keanu_reeves_roles.n == 1)].dropna().sort_values(by='year')"
   ]
  },
  {
   "cell_type": "markdown",
   "metadata": {},
   "source": [
    "### Section I - Q11: \n",
    "\n",
    "(A) List the total number of actor and actress roles available from 1950 - 1960\n",
    "\n",
    "(B) List the total number of actor and actress roles available from 2007 - 2017"
   ]
  },
  {
   "cell_type": "code",
   "execution_count": 141,
   "metadata": {},
   "outputs": [
    {
     "data": {
      "text/plain": "234635"
     },
     "execution_count": 141,
     "metadata": {},
     "output_type": "execute_result"
    }
   ],
   "source": [
    "len(cast[(cast.year >= 1950) & (cast.year <= 1960)])"
   ]
  },
  {
   "cell_type": "code",
   "execution_count": 142,
   "metadata": {},
   "outputs": [
    {
     "data": {
      "text/plain": "1452413"
     },
     "execution_count": 142,
     "metadata": {},
     "output_type": "execute_result"
    }
   ],
   "source": [
    "len(cast[(cast.year >= 2007) & (cast.year <= 2017)])"
   ]
  },
  {
   "cell_type": "markdown",
   "metadata": {},
   "source": [
    "### Section I - Q12: \n",
    "\n",
    "(A) List the total number of leading roles available from 2000 to present\n",
    "\n",
    "(B) List the total number of non-leading roles available from 2000 - present (exclude support cast)\n",
    "\n",
    "(C) List the total number of support\\extra-credit roles available from 2000 - present"
   ]
  },
  {
   "cell_type": "code",
   "execution_count": 149,
   "metadata": {},
   "outputs": [
    {
     "data": {
      "text/plain": "60568"
     },
     "execution_count": 149,
     "metadata": {},
     "output_type": "execute_result"
    }
   ],
   "source": [
    "len(cast[(cast.year >= 2000) & (cast.n == 1)])"
   ]
  },
  {
   "cell_type": "code",
   "execution_count": 152,
   "metadata": {},
   "outputs": [
    {
     "data": {
      "text/plain": "1001710"
     },
     "execution_count": 152,
     "metadata": {},
     "output_type": "execute_result"
    }
   ],
   "source": [
    "len(cast[(cast.year >= 2000) & (cast.n > 1)])"
   ]
  },
  {
   "cell_type": "code",
   "execution_count": 154,
   "metadata": {},
   "outputs": [
    {
     "data": {
      "text/plain": "1949762"
     },
     "execution_count": 154,
     "metadata": {},
     "output_type": "execute_result"
    }
   ],
   "source": [
    "len(cast[(cast.year >= 2000)].n.isnull())"
   ]
  },
  {
   "cell_type": "markdown",
   "metadata": {},
   "source": [
    "# Section II - Aggregations, Transformations and Visualizations"
   ]
  },
  {
   "cell_type": "markdown",
   "metadata": {},
   "source": [
    "## What are the top ten most common movie names of all time?\n"
   ]
  },
  {
   "cell_type": "code",
   "execution_count": 155,
   "metadata": {},
   "outputs": [
    {
     "data": {
      "text/plain": "Hamlet                  20\nCarmen                  17\nMacbeth                 16\nMaya                    12\nTemptation              12\nThe Outsider            12\nFreedom                 11\nThe Three Musketeers    11\nHoneymoon               11\nOthello                 11\nName: title, dtype: int64"
     },
     "execution_count": 155,
     "metadata": {},
     "output_type": "execute_result"
    }
   ],
   "source": [
    "top_ten = movies.title.value_counts()[:10]\n",
    "top_ten"
   ]
  },
  {
   "cell_type": "markdown",
   "metadata": {},
   "source": [
    "### Plot the top ten common movie names of all time"
   ]
  },
  {
   "cell_type": "code",
   "execution_count": 158,
   "metadata": {},
   "outputs": [
    {
     "data": {
      "text/plain": "<Figure size 432x288 with 1 Axes>",
      "image/png": "[encoded data removed]"
     },
     "metadata": {
      "needs_background": "light"
     },
     "output_type": "display_data"
    }
   ],
   "source": [
    "top_ten.plot(kind='barh');"
   ]
  },
  {
   "cell_type": "markdown",
   "metadata": {},
   "source": [
    "### Section II - Q1:  Which years in the 2000s saw the most movies released? (Show top 3)"
   ]
  },
  {
   "cell_type": "code",
   "execution_count": 231,
   "metadata": {},
   "outputs": [
    {
     "data": {
      "text/plain": "2010    6415\n2009    6125\n2008    5151\nName: year, dtype: int64"
     },
     "execution_count": 231,
     "metadata": {},
     "output_type": "execute_result"
    }
   ],
   "source": [
    "movies[(movies.year >= 2000) & (movies.year <= 2010)].year.value_counts().head(3)"
   ]
  },
  {
   "cell_type": "markdown",
   "metadata": {},
   "source": [
    "### Section II - Q2: # Plot the total number of films released per-decade (1890, 1900, 1910,....)\n",
    "- Hint: Dividing the year and multiplying with a number might give you the decade the year falls into!\n",
    "- You might need to sort before plotting"
   ]
  },
  {
   "cell_type": "code",
   "execution_count": 312,
   "outputs": [
    {
     "data": {
      "text/plain": "<Figure size 432x288 with 1 Axes>",
      "image/png": "[encoded data removed]"
     },
     "metadata": {
      "needs_background": "light"
     },
     "output_type": "display_data"
    }
   ],
   "source": [
    "movies['decade'] = movies.year.map(lambda year: year // 10 * 10)\n",
    "movies.groupby('decade').size().plot(kind='barh', xlim=(1, 80000));\n"
   ],
   "metadata": {
    "collapsed": false
   }
  },
  {
   "cell_type": "markdown",
   "metadata": {},
   "source": [
    "### Section II - Q3: \n",
    "\n",
    "(A) What are the top 10 most common character names in movie history?\n",
    "\n",
    "(B) Who are the top 10 people most often credited as \"Herself\" in movie history?\n",
    "\n",
    "(C) Who are the top 10 people most often credited as \"Himself\" in movie history?"
   ]
  },
  {
   "cell_type": "code",
   "execution_count": 314,
   "metadata": {},
   "outputs": [
    {
     "data": {
      "text/plain": "Himself        20746\nDancer         12477\nExtra          11948\nReporter        8434\nStudent         7773\nDoctor          7669\nParty Guest     7245\nPoliceman       7029\nNurse           6999\nBartender       6802\nName: character, dtype: int64"
     },
     "execution_count": 314,
     "metadata": {},
     "output_type": "execute_result"
    }
   ],
   "source": [
    "cast.character.value_counts().head(10)"
   ]
  },
  {
   "cell_type": "code",
   "execution_count": 317,
   "metadata": {},
   "outputs": [
    {
     "data": {
      "text/plain": "Queen Elizabeth II           12\nJoyce Brothers                9\nLuisa Horga                   9\nMar?a Luisa (V) Mart?n        9\nMargaret Thatcher             8\nHillary Clinton               8\nIn?s J. Southern              6\nMar?a Isabel (III) Mart?n     6\nMarta Berrocal                6\nSumie Sakai                   6\nName: name, dtype: int64"
     },
     "execution_count": 317,
     "metadata": {},
     "output_type": "execute_result"
    }
   ],
   "source": [
    "cast[cast.character == 'Herself'].name.value_counts().head(10)"
   ]
  },
  {
   "cell_type": "code",
   "execution_count": 318,
   "metadata": {},
   "outputs": [
    {
     "data": {
      "text/plain": "Adolf Hitler             99\nRichard Nixon            44\nRonald Reagan            41\nJohn F. Kennedy          37\nGeorge W. Bush           25\nWinston Churchill        24\nMartin Luther King       23\nRon Jeremy               22\nBill Clinton             22\nFranklin D. Roosevelt    21\nName: name, dtype: int64"
     },
     "execution_count": 318,
     "metadata": {},
     "output_type": "execute_result"
    }
   ],
   "source": [
    "cast[cast.character == 'Himself'].name.value_counts().head(10)"
   ]
  },
  {
   "cell_type": "markdown",
   "metadata": {},
   "source": [
    "### Section II - Q4: \n",
    "\n",
    "(A) What are the top 10 most frequent roles that start with the word \"Zombie\"?\n",
    "\n",
    "(B) What are the top 10 most frequent roles that start with the word \"Police\"?\n",
    "\n",
    "- Hint: The `startswith()` function might be useful"
   ]
  },
  {
   "cell_type": "code",
   "execution_count": 321,
   "metadata": {},
   "outputs": [
    {
     "data": {
      "text/plain": "Zombie                         6264\nZombie Horde                    206\nZombie - Protestor - Victim      78\nZombie Extra                     70\nZombie Dancer                    43\nZombie Girl                      36\nZombie #1                        36\nZombie #2                        31\nZombie Vampire                   25\nZombie Victim                    22\nName: character, dtype: int64"
     },
     "execution_count": 321,
     "metadata": {},
     "output_type": "execute_result"
    }
   ],
   "source": [
    "cast[cast.character.str.startswith('Zombie')].character.value_counts().head(10)"
   ]
  },
  {
   "cell_type": "code",
   "execution_count": 322,
   "metadata": {},
   "outputs": [
    {
     "data": {
      "text/plain": "Policeman              7029\nPolice Officer         4808\nPolice Inspector        742\nPolice Sergeant         674\nPolice officer          539\nPolice                  456\nPolicewoman             415\nPolice Chief            410\nPolice Captain          387\nPolice Commissioner     337\nName: character, dtype: int64"
     },
     "execution_count": 322,
     "metadata": {},
     "output_type": "execute_result"
    }
   ],
   "source": [
    "cast[cast.character.str.startswith('Police')].character.value_counts().head(10)"
   ]
  },
  {
   "cell_type": "markdown",
   "metadata": {},
   "source": [
    "### Section II - Q5: Plot how many roles 'Keanu Reeves' has played in each year of his career."
   ]
  },
  {
   "cell_type": "code",
   "execution_count": 354,
   "metadata": {},
   "outputs": [
    {
     "data": {
      "text/plain": "    Year  Count\n24  2019      1\n19  2018      1\n4   2017      3\n0   2016      5\n23  2015      1\n25  2014      1\n18  2013      2\n26  2012      1\n21  2010      1\n28  2009      1\n16  2008      2\n14  2006      2\n8   2005      3\n3   2003      3\n13  2001      2\n6   2000      3\n7   1999      3\n12  1997      2\n10  1996      2\n17  1995      2\n20  1994      1\n2   1993      4\n27  1992      1\n9   1991      3\n15  1990      2\n11  1989      2\n1   1988      4\n5   1986      3\n22  1985      1",
      "text/html": "<div>\n<style scoped>\n    .dataframe tbody tr th:only-of-type {\n        vertical-align: middle;\n    }\n\n    .dataframe tbody tr th {\n        vertical-align: top;\n    }\n\n    .dataframe thead th {\n        text-align: right;\n    }\n</style>\n<table border=\"1\" class=\"dataframe\">\n  <thead>\n    <tr style=\"text-align: right;\">\n      <th></th>\n      <th>Year</th>\n      <th>Count</th>\n    </tr>\n  </thead>\n  <tbody>\n    <tr>\n      <th>24</th>\n      <td>2019</td>\n      <td>1</td>\n    </tr>\n    <tr>\n      <th>19</th>\n      <td>2018</td>\n      <td>1</td>\n    </tr>\n    <tr>\n      <th>4</th>\n      <td>2017</td>\n      <td>3</td>\n    </tr>\n    <tr>\n      <th>0</th>\n      <td>2016</td>\n      <td>5</td>\n    </tr>\n    <tr>\n      <th>23</th>\n      <td>2015</td>\n      <td>1</td>\n    </tr>\n    <tr>\n      <th>25</th>\n      <td>2014</td>\n      <td>1</td>\n    </tr>\n    <tr>\n      <th>18</th>\n      <td>2013</td>\n      <td>2</td>\n    </tr>\n    <tr>\n      <th>26</th>\n      <td>2012</td>\n      <td>1</td>\n    </tr>\n    <tr>\n      <th>21</th>\n      <td>2010</td>\n      <td>1</td>\n    </tr>\n    <tr>\n      <th>28</th>\n      <td>2009</td>\n      <td>1</td>\n    </tr>\n    <tr>\n      <th>16</th>\n      <td>2008</td>\n      <td>2</td>\n    </tr>\n    <tr>\n      <th>14</th>\n      <td>2006</td>\n      <td>2</td>\n    </tr>\n    <tr>\n      <th>8</th>\n      <td>2005</td>\n      <td>3</td>\n    </tr>\n    <tr>\n      <th>3</th>\n      <td>2003</td>\n      <td>3</td>\n    </tr>\n    <tr>\n      <th>13</th>\n      <td>2001</td>\n      <td>2</td>\n    </tr>\n    <tr>\n      <th>6</th>\n      <td>2000</td>\n      <td>3</td>\n    </tr>\n    <tr>\n      <th>7</th>\n      <td>1999</td>\n      <td>3</td>\n    </tr>\n    <tr>\n      <th>12</th>\n      <td>1997</td>\n      <td>2</td>\n    </tr>\n    <tr>\n      <th>10</th>\n      <td>1996</td>\n      <td>2</td>\n    </tr>\n    <tr>\n      <th>17</th>\n      <td>1995</td>\n      <td>2</td>\n    </tr>\n    <tr>\n      <th>20</th>\n      <td>1994</td>\n      <td>1</td>\n    </tr>\n    <tr>\n      <th>2</th>\n      <td>1993</td>\n      <td>4</td>\n    </tr>\n    <tr>\n      <th>27</th>\n      <td>1992</td>\n      <td>1</td>\n    </tr>\n    <tr>\n      <th>9</th>\n      <td>1991</td>\n      <td>3</td>\n    </tr>\n    <tr>\n      <th>15</th>\n      <td>1990</td>\n      <td>2</td>\n    </tr>\n    <tr>\n      <th>11</th>\n      <td>1989</td>\n      <td>2</td>\n    </tr>\n    <tr>\n      <th>1</th>\n      <td>1988</td>\n      <td>4</td>\n    </tr>\n    <tr>\n      <th>5</th>\n      <td>1986</td>\n      <td>3</td>\n    </tr>\n    <tr>\n      <th>22</th>\n      <td>1985</td>\n      <td>1</td>\n    </tr>\n  </tbody>\n</table>\n</div>"
     },
     "execution_count": 354,
     "metadata": {},
     "output_type": "execute_result"
    }
   ],
   "source": [
    "roles = cast[cast.name == 'Keanu Reeves'].year.value_counts().reset_index()\n",
    "roles.columns = ['Year', 'Count']\n",
    "roles.sort_values(by='Year', ascending=False)"
   ]
  },
  {
   "cell_type": "markdown",
   "metadata": {},
   "source": [
    "### Section II - Q6: Plot the cast positions (n-values) of Keanu Reeve's roles through his career over the years.\n"
   ]
  },
  {
   "cell_type": "code",
   "execution_count": 427,
   "metadata": {},
   "outputs": [
    {
     "data": {
      "text/plain": "<Figure size 432x288 with 1 Axes>",
      "image/png": "[encoded data removed]"
     },
     "metadata": {
      "needs_background": "light"
     },
     "output_type": "display_data"
    }
   ],
   "source": [
    "cast[cast.name == 'Keanu Reeves'][['n', 'year']].dropna().plot(kind='scatter', x='year', y='n');"
   ]
  },
  {
   "cell_type": "markdown",
   "metadata": {},
   "source": [
    "### Section II - Q7: Plot the number of \"Hamlet\" films made by each decade"
   ]
  },
  {
   "cell_type": "code",
   "execution_count": 456,
   "metadata": {},
   "outputs": [
    {
     "data": {
      "text/plain": "<Figure size 432x288 with 1 Axes>",
      "image/png": "[encoded data removed]"
     },
     "metadata": {
      "needs_background": "light"
     },
     "output_type": "display_data"
    }
   ],
   "source": [
    "movies[movies.title == 'Hamlet'].decade.value_counts().plot(kind='barh', grid=True, alpha=0.8);"
   ]
  },
  {
   "cell_type": "markdown",
   "metadata": {},
   "source": [
    "### Section II - Q8: \n",
    "\n",
    "(A) How many leading roles were available to both actors and actresses, in the 1960s (1960-1969)?\n",
    "\n",
    "(B) How many leading roles were available to both actors and actresses, in the 2000s (2000-2009)?\n",
    "\n",
    "- Hint: A specific value of n might indicate a leading role"
   ]
  },
  {
   "cell_type": "code",
   "execution_count": 457,
   "metadata": {},
   "outputs": [
    {
     "data": {
      "text/plain": "11823"
     },
     "execution_count": 457,
     "metadata": {},
     "output_type": "execute_result"
    }
   ],
   "source": [
    "cast['decade'] = cast.year.map(lambda year: year // 10 * 10)\n",
    "len(cast[(cast.n == 1) & (cast.decade == 1960)])"
   ]
  },
  {
   "cell_type": "code",
   "execution_count": 458,
   "metadata": {},
   "outputs": [
    {
     "data": {
      "text/plain": "26344"
     },
     "execution_count": 458,
     "metadata": {},
     "output_type": "execute_result"
    }
   ],
   "source": [
    "len(cast[(cast.n == 1) & (cast.decade == 2000)])"
   ]
  },
  {
   "cell_type": "markdown",
   "metadata": {},
   "source": [
    "### Section II - Q9: List, in order by year, each of the films in which Frank Oz has played more than 1 role."
   ]
  },
  {
   "cell_type": "code",
   "execution_count": 523,
   "metadata": {},
   "outputs": [
    {
     "data": {
      "text/plain": "                                           Number of Roles\ntitle                                year                 \nThe Muppet Movie                     1979                8\nThe Great Muppet Caper               1981                6\nThe Muppets Take Manhattan           1984                7\nFollow That Bird                     1985                3\nThe Muppet Christmas Carol           1992                7\nMuppet Treasure Island               1996                4\nMuppets from Space                   1999                4\nThe Adventures of Elmo in Grouchland 1999                3",
      "text/html": "<div>\n<style scoped>\n    .dataframe tbody tr th:only-of-type {\n        vertical-align: middle;\n    }\n\n    .dataframe tbody tr th {\n        vertical-align: top;\n    }\n\n    .dataframe thead th {\n        text-align: right;\n    }\n</style>\n<table border=\"1\" class=\"dataframe\">\n  <thead>\n    <tr style=\"text-align: right;\">\n      <th></th>\n      <th></th>\n      <th>Number of Roles</th>\n    </tr>\n    <tr>\n      <th>title</th>\n      <th>year</th>\n      <th></th>\n    </tr>\n  </thead>\n  <tbody>\n    <tr>\n      <th>The Muppet Movie</th>\n      <th>1979</th>\n      <td>8</td>\n    </tr>\n    <tr>\n      <th>The Great Muppet Caper</th>\n      <th>1981</th>\n      <td>6</td>\n    </tr>\n    <tr>\n      <th>The Muppets Take Manhattan</th>\n      <th>1984</th>\n      <td>7</td>\n    </tr>\n    <tr>\n      <th>Follow That Bird</th>\n      <th>1985</th>\n      <td>3</td>\n    </tr>\n    <tr>\n      <th>The Muppet Christmas Carol</th>\n      <th>1992</th>\n      <td>7</td>\n    </tr>\n    <tr>\n      <th>Muppet Treasure Island</th>\n      <th>1996</th>\n      <td>4</td>\n    </tr>\n    <tr>\n      <th>Muppets from Space</th>\n      <th>1999</th>\n      <td>4</td>\n    </tr>\n    <tr>\n      <th>The Adventures of Elmo in Grouchland</th>\n      <th>1999</th>\n      <td>3</td>\n    </tr>\n  </tbody>\n</table>\n</div>"
     },
     "execution_count": 523,
     "metadata": {},
     "output_type": "execute_result"
    }
   ],
   "source": [
    "frank_oz_movie_counts_by_year = cast[cast.name == 'Frank Oz'].groupby(['title', 'year']).count()\n",
    "frank_oz_movie_counts_by_year = frank_oz_movie_counts_by_year[\n",
    "    frank_oz_movie_counts_by_year.n > 2].n.to_frame().sort_values(by='year')\n",
    "frank_oz_movie_counts_by_year.columns = ['Number of Roles']\n",
    "frank_oz_movie_counts_by_year"
   ]
  },
  {
   "cell_type": "markdown",
   "metadata": {},
   "source": [
    "### Section II - Q10: List each of the characters that Frank Oz has portrayed at least twice"
   ]
  },
  {
   "cell_type": "code",
   "execution_count": 549,
   "metadata": {},
   "outputs": [
    {
     "data": {
      "text/plain": "0            Animal\n1              Bert\n2    Cookie Monster\n3       Fozzie Bear\n4            Grover\n5        Miss Piggy\n6     Sam the Eagle\n7              Yoda\nName: character, dtype: object"
     },
     "execution_count": 549,
     "metadata": {},
     "output_type": "execute_result"
    }
   ],
   "source": [
    "frank_oz_characters_count = cast[cast.name == 'Frank Oz'].groupby('character').count()\n",
    "frank_oz_characters_count[frank_oz_characters_count.title > 1].reset_index().character\n"
   ]
  },
  {
   "cell_type": "markdown",
   "metadata": {},
   "source": [
    "# Section III - Advanced Merging, Querying and Visualizations"
   ]
  },
  {
   "cell_type": "markdown",
   "metadata": {},
   "source": [
    "## Make a bar plot with the following conditions\n",
    "- Frequency of the number of movies with \"Christmas\" in their title \n",
    "- Movies should be such that they are released in the USA.\n",
    "- Show the frequency plot by month"
   ]
  },
  {
   "cell_type": "code",
   "execution_count": 552,
   "metadata": {},
   "outputs": [
    {
     "data": {
      "text/plain": "<Figure size 432x288 with 1 Axes>",
      "image/png": "[encoded data removed]"
     },
     "metadata": {
      "needs_background": "light"
     },
     "output_type": "display_data"
    }
   ],
   "source": [
    "christmas = release_dates[(release_dates.title.str.contains('Christmas')) & (release_dates.country == 'USA')]\n",
    "christmas.date.dt.month.value_counts().sort_index().plot(kind='bar');"
   ]
  },
  {
   "cell_type": "markdown",
   "metadata": {},
   "source": [
    "### Section III - Q1: Make a bar plot with the following conditions\n",
    "- Frequency of the number of movies with \"Summer\" in their title \n",
    "- Movies should be such that they are released in the USA.\n",
    "- Show the frequency plot by month"
   ]
  },
  {
   "cell_type": "code",
   "execution_count": 566,
   "metadata": {},
   "outputs": [
    {
     "data": {
      "text/plain": "<Figure size 432x288 with 1 Axes>",
      "image/png": "[encoded data removed]"
     },
     "metadata": {
      "needs_background": "light"
     },
     "output_type": "display_data"
    }
   ],
   "source": [
    "summer_movies = release_dates[(release_dates.title.str.contains('Summer') & (release_dates.country == 'USA'))]\n",
    "summer_movies.date.dt.month.value_counts().sort_index().plot(kind='bar', xlabel='Month', ylabel='Count');"
   ]
  },
  {
   "cell_type": "markdown",
   "metadata": {},
   "source": [
    "### Section III - Q2: Make a bar plot with the following conditions\n",
    "- Frequency of the number of movies with \"Action\" in their title \n",
    "- Movies should be such that they are released in the USA.\n",
    "- Show the frequency plot by week"
   ]
  },
  {
   "cell_type": "code",
   "execution_count": 573,
   "metadata": {},
   "outputs": [
    {
     "data": {
      "text/plain": "<Figure size 432x288 with 1 Axes>",
      "image/png": "[encoded data removed]"
     },
     "metadata": {
      "needs_background": "light"
     },
     "output_type": "display_data"
    }
   ],
   "source": [
    "action_movies = release_dates[(release_dates.title.str.contains('Action') & (release_dates.country == 'USA'))]\n",
    "action_movies.date.dt.isocalendar().week.value_counts().sort_index().plot(kind='bar', xlabel='Week', ylabel='Count');"
   ]
  },
  {
   "cell_type": "markdown",
   "metadata": {},
   "source": [
    "### Section III - Q3: Show all the movies in which Keanu Reeves has played the lead role along with their   release date in the USA sorted by the date of release\n",
    "- Hint: You might need to join or merge two datasets!"
   ]
  },
  {
   "cell_type": "code",
   "execution_count": 728,
   "metadata": {},
   "outputs": [
    {
     "data": {
      "text/plain": "                                   title  year    n          name       date\n999461                  The Night Before  1988  1.0  Keanu Reeves 1988-04-15\n424331  Bill & Ted's Excellent Adventure  1989  1.0  Keanu Reeves 1989-02-17\n110242        Bill & Ted's Bogus Journey  1991  1.0  Keanu Reeves 1991-07-19\n529724                     Little Buddha  1993  1.0  Keanu Reeves 1994-05-25\n435832                             Speed  1994  1.0  Keanu Reeves 1994-06-10\n75853                    Johnny Mnemonic  1995  1.0  Keanu Reeves 1995-05-26\n541133              A Walk in the Clouds  1995  1.0  Keanu Reeves 1995-08-11\n718177                    Chain Reaction  1996  1.0  Keanu Reeves 1996-08-02\n812042                 Feeling Minnesota  1996  1.0  Keanu Reeves 1996-09-13\n387203              The Devil's Advocate  1997  1.0  Keanu Reeves 1997-10-17\n671271                        The Matrix  1999  1.0  Keanu Reeves 1999-03-31\n895                     The Replacements  2000  1.0  Keanu Reeves 2000-08-11\n293802                    Sweet November  2001  1.0  Keanu Reeves 2001-02-16\n37707                          Hard Ball  2001  1.0  Keanu Reeves 2001-09-14\n389466                       Constantine  2005  1.0  Keanu Reeves 2005-02-18\n93136                     The Lake House  2006  1.0  Keanu Reeves 2006-06-16\n547860                      Street Kings  2008  1.0  Keanu Reeves 2008-04-11\n176963     The Day the Earth Stood Still  2008  1.0  Keanu Reeves 2008-12-12\n306288                          47 Ronin  2013  1.0  Keanu Reeves 2013-12-25\n110089                         John Wick  2014  1.0  Keanu Reeves 2014-10-24\n853370                       Knock Knock  2015  1.0  Keanu Reeves 2015-10-09\n733996              John Wick: Chapter 2  2017  1.0  Keanu Reeves 2017-02-10",
      "text/html": "<div>\n<style scoped>\n    .dataframe tbody tr th:only-of-type {\n        vertical-align: middle;\n    }\n\n    .dataframe tbody tr th {\n        vertical-align: top;\n    }\n\n    .dataframe thead th {\n        text-align: right;\n    }\n</style>\n<table border=\"1\" class=\"dataframe\">\n  <thead>\n    <tr style=\"text-align: right;\">\n      <th></th>\n      <th>title</th>\n      <th>year</th>\n      <th>n</th>\n      <th>name</th>\n      <th>date</th>\n    </tr>\n  </thead>\n  <tbody>\n    <tr>\n      <th>999461</th>\n      <td>The Night Before</td>\n      <td>1988</td>\n      <td>1.0</td>\n      <td>Keanu Reeves</td>\n      <td>1988-04-15</td>\n    </tr>\n    <tr>\n      <th>424331</th>\n      <td>Bill &amp; Ted's Excellent Adventure</td>\n      <td>1989</td>\n      <td>1.0</td>\n      <td>Keanu Reeves</td>\n      <td>1989-02-17</td>\n    </tr>\n    <tr>\n      <th>110242</th>\n      <td>Bill &amp; Ted's Bogus Journey</td>\n      <td>1991</td>\n      <td>1.0</td>\n      <td>Keanu Reeves</td>\n      <td>1991-07-19</td>\n    </tr>\n    <tr>\n      <th>529724</th>\n      <td>Little Buddha</td>\n      <td>1993</td>\n      <td>1.0</td>\n      <td>Keanu Reeves</td>\n      <td>1994-05-25</td>\n    </tr>\n    <tr>\n      <th>435832</th>\n      <td>Speed</td>\n      <td>1994</td>\n      <td>1.0</td>\n      <td>Keanu Reeves</td>\n      <td>1994-06-10</td>\n    </tr>\n    <tr>\n      <th>75853</th>\n      <td>Johnny Mnemonic</td>\n      <td>1995</td>\n      <td>1.0</td>\n      <td>Keanu Reeves</td>\n      <td>1995-05-26</td>\n    </tr>\n    <tr>\n      <th>541133</th>\n      <td>A Walk in the Clouds</td>\n      <td>1995</td>\n      <td>1.0</td>\n      <td>Keanu Reeves</td>\n      <td>1995-08-11</td>\n    </tr>\n    <tr>\n      <th>718177</th>\n      <td>Chain Reaction</td>\n      <td>1996</td>\n      <td>1.0</td>\n      <td>Keanu Reeves</td>\n      <td>1996-08-02</td>\n    </tr>\n    <tr>\n      <th>812042</th>\n      <td>Feeling Minnesota</td>\n      <td>1996</td>\n      <td>1.0</td>\n      <td>Keanu Reeves</td>\n      <td>1996-09-13</td>\n    </tr>\n    <tr>\n      <th>387203</th>\n      <td>The Devil's Advocate</td>\n      <td>1997</td>\n      <td>1.0</td>\n      <td>Keanu Reeves</td>\n      <td>1997-10-17</td>\n    </tr>\n    <tr>\n      <th>671271</th>\n      <td>The Matrix</td>\n      <td>1999</td>\n      <td>1.0</td>\n      <td>Keanu Reeves</td>\n      <td>1999-03-31</td>\n    </tr>\n    <tr>\n      <th>895</th>\n      <td>The Replacements</td>\n      <td>2000</td>\n      <td>1.0</td>\n      <td>Keanu Reeves</td>\n      <td>2000-08-11</td>\n    </tr>\n    <tr>\n      <th>293802</th>\n      <td>Sweet November</td>\n      <td>2001</td>\n      <td>1.0</td>\n      <td>Keanu Reeves</td>\n      <td>2001-02-16</td>\n    </tr>\n    <tr>\n      <th>37707</th>\n      <td>Hard Ball</td>\n      <td>2001</td>\n      <td>1.0</td>\n      <td>Keanu Reeves</td>\n      <td>2001-09-14</td>\n    </tr>\n    <tr>\n      <th>389466</th>\n      <td>Constantine</td>\n      <td>2005</td>\n      <td>1.0</td>\n      <td>Keanu Reeves</td>\n      <td>2005-02-18</td>\n    </tr>\n    <tr>\n      <th>93136</th>\n      <td>The Lake House</td>\n      <td>2006</td>\n      <td>1.0</td>\n      <td>Keanu Reeves</td>\n      <td>2006-06-16</td>\n    </tr>\n    <tr>\n      <th>547860</th>\n      <td>Street Kings</td>\n      <td>2008</td>\n      <td>1.0</td>\n      <td>Keanu Reeves</td>\n      <td>2008-04-11</td>\n    </tr>\n    <tr>\n      <th>176963</th>\n      <td>The Day the Earth Stood Still</td>\n      <td>2008</td>\n      <td>1.0</td>\n      <td>Keanu Reeves</td>\n      <td>2008-12-12</td>\n    </tr>\n    <tr>\n      <th>306288</th>\n      <td>47 Ronin</td>\n      <td>2013</td>\n      <td>1.0</td>\n      <td>Keanu Reeves</td>\n      <td>2013-12-25</td>\n    </tr>\n    <tr>\n      <th>110089</th>\n      <td>John Wick</td>\n      <td>2014</td>\n      <td>1.0</td>\n      <td>Keanu Reeves</td>\n      <td>2014-10-24</td>\n    </tr>\n    <tr>\n      <th>853370</th>\n      <td>Knock Knock</td>\n      <td>2015</td>\n      <td>1.0</td>\n      <td>Keanu Reeves</td>\n      <td>2015-10-09</td>\n    </tr>\n    <tr>\n      <th>733996</th>\n      <td>John Wick: Chapter 2</td>\n      <td>2017</td>\n      <td>1.0</td>\n      <td>Keanu Reeves</td>\n      <td>2017-02-10</td>\n    </tr>\n  </tbody>\n</table>\n</div>"
     },
     "execution_count": 728,
     "metadata": {},
     "output_type": "execute_result"
    }
   ],
   "source": [
    "usa_release_dates = release_dates[release_dates.country == 'USA'][['title', 'date', 'year']]\n",
    "movie_roles_with_dates = cast[['title', 'year', 'n', 'name']]\n",
    "movie_roles_with_dates = movie_roles_with_dates.merge(usa_release_dates)\n",
    "keanu_reeves_roles = movie_roles_with_dates[movie_roles_with_dates.name == 'Keanu Reeves'].sort_values(by='date')\n",
    "keanu_reeves_roles[keanu_reeves_roles.n == 1]"
   ]
  },
  {
   "cell_type": "markdown",
   "metadata": {},
   "source": [
    "### Section III - Q4: Make a bar plot showing the months in which movies with Keanu Reeves tend to be released in the USA?"
   ]
  },
  {
   "cell_type": "code",
   "execution_count": 729,
   "metadata": {},
   "outputs": [
    {
     "data": {
      "text/plain": "<Figure size 432x288 with 1 Axes>",
      "image/png": "[encoded data removed]"
     },
     "metadata": {
      "needs_background": "light"
     },
     "output_type": "display_data"
    }
   ],
   "source": [
    "keanu_reeves_roles.date.dt.month.value_counts().sort_index().plot(\n",
    "    kind='bar',\n",
    "    xlabel='Month',\n",
    "    ylabel='Count',\n",
    "    title='Keanu Reeves Movie Frequency by Month');"
   ]
  },
  {
   "cell_type": "markdown",
   "metadata": {},
   "source": [
    "### Section III - Q5: Make a bar plot showing the years in which movies with Ian McKellen tend to be released in the USA?"
   ]
  },
  {
   "cell_type": "code",
   "execution_count": 725,
   "metadata": {},
   "outputs": [
    {
     "data": {
      "text/plain": "<Figure size 432x288 with 1 Axes>",
      "image/png": "[encoded data removed]"
     },
     "metadata": {
      "needs_background": "light"
     },
     "output_type": "display_data"
    }
   ],
   "source": [
    "ian_mckellen_roles = movie_roles_with_dates[movie_roles_with_dates.name == 'Ian McKellen']\n",
    "ian_mckellen_roles.date.dt.year.value_counts().sort_index().plot(\n",
    "    kind='bar',\n",
    "    xlabel='Year',\n",
    "    ylabel='Count',\n",
    "    title='Ian McKellen Movie Frequency by Year');"
   ]
  }
 ],
 "metadata": {
  "kernelspec": {
   "display_name": "Python 3",
   "language": "python",
   "name": "python3"
  },
  "language_info": {
   "codemirror_mode": {
    "name": "ipython",
    "version": 3
   },
   "file_extension": ".py",
   "mimetype": "text/x-python",
   "name": "python",
   "nbconvert_exporter": "python",
   "pygments_lexer": "ipython3",
   "version": "3.7.6-final"
  }
 },
 "nbformat": 4,
 "nbformat_minor": 2
}
